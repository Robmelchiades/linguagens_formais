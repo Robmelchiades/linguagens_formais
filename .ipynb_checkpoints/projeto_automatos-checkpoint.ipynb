{
 "cells": [
  {
   "cell_type": "code",
   "execution_count": null,
   "metadata": {},
   "outputs": [],
   "source": [
    "from igraph import *\n",
    "\n",
    "g = Graph()\n",
    "g.add_vertices(4)\n",
    "g.add_edges([(1,2),(2,3),(0,3)])\n",
    "plot(g)"
   ]
  }
 ],
 "metadata": {
  "language_info": {
   "name": "python"
  },
  "orig_nbformat": 4
 },
 "nbformat": 4,
 "nbformat_minor": 2
}
