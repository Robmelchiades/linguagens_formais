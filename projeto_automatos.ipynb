{
 "cells": [
  {
   "cell_type": "code",
   "execution_count": 2,
   "metadata": {
    "execution": {
     "iopub.execute_input": "2022-05-29T23:17:36.580200Z",
     "iopub.status.busy": "2022-05-29T23:17:36.579857Z",
     "iopub.status.idle": "2022-05-29T23:17:36.969116Z",
     "shell.execute_reply": "2022-05-29T23:17:36.967826Z",
     "shell.execute_reply.started": "2022-05-29T23:17:36.580132Z"
    }
   },
   "outputs": [],
   "source": [
    "import numpy as np\n",
    "import re"
   ]
  },
  {
   "cell_type": "code",
   "execution_count": null,
   "metadata": {},
   "outputs": [],
   "source": [
    "re.compile(\"^([A-Z][0-9]+)+$\")"
   ]
  },
  {
   "cell_type": "code",
   "execution_count": 7,
   "metadata": {},
   "outputs": [],
   "source": [
    "teste_int = '12354'"
   ]
  },
  {
   "cell_type": "code",
   "execution_count": 43,
   "metadata": {},
   "outputs": [],
   "source": [
    "PADRAO_INICIO = re.compile('[0-9/+/-]')"
   ]
  },
  {
   "cell_type": "code",
   "execution_count": 44,
   "metadata": {},
   "outputs": [],
   "source": [
    "PADRAO_INICIO.search('a')"
   ]
  },
  {
   "cell_type": "code",
   "execution_count": 14,
   "metadata": {},
   "outputs": [
    {
     "data": {
      "text/plain": [
       "'12354'"
      ]
     },
     "execution_count": 14,
     "metadata": {},
     "output_type": "execute_result"
    }
   ],
   "source": [
    "PADRAO_INICIO.(teste_int)[0]"
   ]
  },
  {
   "cell_type": "code",
   "execution_count": 24,
   "metadata": {},
   "outputs": [],
   "source": [
    "teste = re.compile('')"
   ]
  },
  {
   "cell_type": "code",
   "execution_count": 29,
   "metadata": {},
   "outputs": [
    {
     "data": {
      "text/plain": [
       "<re.Match object; span=(0, 0), match=''>"
      ]
     },
     "execution_count": 29,
     "metadata": {},
     "output_type": "execute_result"
    }
   ],
   "source": [
    "teste.search('1')"
   ]
  },
  {
   "cell_type": "code",
   "execution_count": 75,
   "metadata": {},
   "outputs": [],
   "source": [
    "DEFINICAO_AUTOMATO = {\n",
    "    'completo' :{\n",
    "\n",
    "        'estado_inicial':'Q0',\n",
    "\n",
    "        'estados_finais' : {\n",
    "            'QD1':'Variável', \n",
    "            'QB4': 'Comentário', \n",
    "            'QA2': 'Comentário', \n",
    "            'QC2': 'Comentário', \n",
    "            'QE1': 'Numérico Inteiro', \n",
    "            'QE3': 'Numérico Float'\n",
    "            },\n",
    "            \n",
    "        'Q0' : {\n",
    "            'mudanca_estado':['[A-Za-z]', '[(]', '[/]', '[{]', '[0-9/+/-]'],\n",
    "            'prox_estado':['QD1', 'QB1', 'QA1', 'QC1', 'QE1']\n",
    "        },\n",
    "        'QA1' : {\n",
    "            'mudanca_estado':['[/]'],\n",
    "            'prox_estado':['QA2']\n",
    "        },\n",
    "        'QA2' : {\n",
    "            'mudanca_estado':['[^\\n]'],\n",
    "            'prox_estado':['QA2']\n",
    "        },\n",
    "        'QB1': {\n",
    "            'mudanca_estado':['[*]'],\n",
    "            'prox_estado':['QB2']\n",
    "        },\n",
    "        'QB2': {\n",
    "            'mudanca_estado':['[^\\n\\*]', '[*]'],\n",
    "            'prox_estado':['QB2', 'QB3']\n",
    "        },\n",
    "        'QB3': {\n",
    "            'mudanca_estado':['[^\\n\\)]', '[)]'],\n",
    "            'prox_estado':['QB2', 'QB4']\n",
    "        }        ,\n",
    "        'QC1': {\n",
    "            'mudanca_estado':['[^\\n}]', '[}]'],\n",
    "            'prox_estado':['QC1', 'QC2']\n",
    "        },\n",
    "        'QD1': {\n",
    "            'mudanca_estado':['[A-Za-z0-9\\_]'],\n",
    "            'prox_estado':['QD1']\n",
    "        },\n",
    "        'QE1': {\n",
    "            'mudanca_estado':['[0-9]', '[.]'],\n",
    "            'prox_estado':['QE1', 'QE2']\n",
    "        },\n",
    "        'QE2': {\n",
    "            'mudanca_estado':['[0-9]'],\n",
    "            'prox_estado':['QE3']\n",
    "        },\n",
    "        'QE3': {\n",
    "            'mudanca_estado':['[0-9]'],\n",
    "            'prox_estado':['QE3']\n",
    "        }\n",
    "\n",
    "    },\n",
    "    'automato_intierios' :{\n",
    "\n",
    "        'estado_inicial':'Q0',\n",
    "        'estados_finais' : ['QA1'],\n",
    "        'classe': 'Numérico Inteiro',\n",
    "        'Q0' : {\n",
    "            'mudanca_estado':['[0-9/+/-]'],\n",
    "            'prox_estado':['QA1']\n",
    "        },\n",
    "        'QA1' : {\n",
    "            'mudanca_estado':['[0-9]'],\n",
    "            'prox_estado':['QA1']\n",
    "        }\n",
    "    },\n",
    "    'automato_float' :{\n",
    "\n",
    "        'estado_inicial':'Q0',\n",
    "        'estados_finais' : ['QA3'],\n",
    "        'classe': 'Numérico Float',\n",
    "        'Q0' : {\n",
    "            'mudanca_estado':['[0-9/+/-]'],\n",
    "            'prox_estado':['QA1']\n",
    "        },\n",
    "        'QA1' : {\n",
    "            'mudanca_estado':['[0-9]', '[.]'],\n",
    "            'prox_estado':['QA1', 'QA2']\n",
    "        },\n",
    "        'QA2' : {\n",
    "            'mudanca_estado':['[0-9]'],\n",
    "            'prox_estado':['QA3']\n",
    "        },\n",
    "        'QA3': {\n",
    "            'mudanca_estado':['[0-9]'],\n",
    "            'prox_estado':['QA3']\n",
    "        }\n",
    "    },\n",
    "\n",
    "    'variavel' :{\n",
    "\n",
    "        'estado_inicial':'Q0',\n",
    "        'estados_finais' : ['Q1'],\n",
    "        'classe': 'Variável',\n",
    "\n",
    "        'Q0' : {\n",
    "            'mudanca_estado':['[A-Za-z]'],\n",
    "            'prox_estado':['Q1']\n",
    "        },\n",
    "        'Q1' : {\n",
    "            'mudanca_estado':['[A-Za-z0-9\\_]'],\n",
    "            'prox_estado':['Q1']\n",
    "        }\n",
    "    },\n",
    "    'comentario' :{\n",
    "\n",
    "        'estado_inicial':'Q0',\n",
    "        'estados_finais' : ['QA2', 'QB4', 'QC2'],\n",
    "        'classe': 'Comentário',\n",
    "\n",
    "        'Q0' : {\n",
    "            'mudanca_estado':['[(]', '[/]', '[{]'],\n",
    "            'prox_estado':['QB1', 'QA1', 'QC1']\n",
    "        },\n",
    "        'QA1' : {\n",
    "            'mudanca_estado':['[/]'],\n",
    "            'prox_estado':['QA2']\n",
    "        },\n",
    "        'QA2' : {\n",
    "            'mudanca_estado':['[^\\n]'],\n",
    "            'prox_estado':['QA2']\n",
    "        },\n",
    "        'QB1': {\n",
    "            'mudanca_estado':['[*]'],\n",
    "            'prox_estado':['QB2']\n",
    "        },\n",
    "        'QB2': {\n",
    "            'mudanca_estado':['[^\\n\\*]', '[*]'],\n",
    "            'prox_estado':['QB2', 'QB3']\n",
    "        },\n",
    "        'QB3': {\n",
    "            'mudanca_estado':['[^\\n\\)]', '[)]'],\n",
    "            'prox_estado':['QB2', 'QB4']\n",
    "        }        ,\n",
    "        'QC1': {\n",
    "            'mudanca_estado':['[^\\n}]', '[}]'],\n",
    "            'prox_estado':['QC1', 'QC2']\n",
    "        }\n",
    "    }\n",
    "\n",
    "\n",
    "}"
   ]
  },
  {
   "cell_type": "code",
   "execution_count": 81,
   "metadata": {},
   "outputs": [],
   "source": [
    "def imprime_mudaca_estado(estado_atual, entrada, proximo_estado):\n",
    "\n",
    "    saida = 'Estado Atual: {}; Entrada: {}, Próximo Estado: {}'.format(estado_atual, entrada, proximo_estado)\n",
    "    print(saida)\n",
    "\n",
    "def processa_entrada(valor_entrada, automato = DEFINICAO_AUTOMATO['completo']):\n",
    "\n",
    "    valor_entrada = str(valor_entrada)\n",
    "    estado_atual = automato['estado_inicial']\n",
    "\n",
    "    try:\n",
    "        for c in valor_entrada:\n",
    "            mudancas_estado = automato[estado_atual].get('mudanca_estado')\n",
    "            idx_mudanca_estado = 0\n",
    "            for mudanca_estado in mudancas_estado:\n",
    "\n",
    "                padrao = re.compile(mudanca_estado)\n",
    "\n",
    "                if padrao.search(c):\n",
    "                    proximos_estados = automato[estado_atual].get('prox_estado')\n",
    "                    proximo_estado = proximos_estados[idx_mudanca_estado]\n",
    "\n",
    "                    imprime_mudaca_estado(estado_atual, c,  proximo_estado)\n",
    "                    estado_atual = proximo_estado\n",
    "                    break\n",
    "\n",
    "                idx_mudanca_estado += 1\n",
    "\n",
    "                if idx_mudanca_estado >= len(mudancas_estado):\n",
    "                    raise Exception(\"Entrada Inválida --> {}\".format(c))\n",
    "        \n",
    "        classe = automato['estados_finais'].get(estado_atual)\n",
    "        if classe:\n",
    "            print('Entrada Aceita com Sucesso para a Classe {}'.format(classe))\n",
    "        else:\n",
    "            raise Exception(\"Entrada Inválida\".format(c))\n",
    "    except Exception as e:\n",
    "        print(e)"
   ]
  },
  {
   "cell_type": "code",
   "execution_count": 90,
   "metadata": {},
   "outputs": [
    {
     "name": "stdout",
     "output_type": "stream",
     "text": [
      "Estado Atual: Q0; Entrada: 4, Próximo Estado: QE1\n",
      "Estado Atual: QE1; Entrada: 5, Próximo Estado: QE1\n",
      "Estado Atual: QE1; Entrada: 4, Próximo Estado: QE1\n",
      "Estado Atual: QE1; Entrada: 5, Próximo Estado: QE1\n",
      "Estado Atual: QE1; Entrada: 6, Próximo Estado: QE1\n",
      "Estado Atual: QE1; Entrada: 4, Próximo Estado: QE1\n",
      "Estado Atual: QE1; Entrada: 5, Próximo Estado: QE1\n",
      "Estado Atual: QE1; Entrada: 6, Próximo Estado: QE1\n",
      "Estado Atual: QE1; Entrada: 4, Próximo Estado: QE1\n",
      "Entrada Aceita com Sucesso para a Classe Numérico Inteiro\n"
     ]
    }
   ],
   "source": [
    "processa_entrada(valor_entrada='454564564')"
   ]
  },
  {
   "cell_type": "code",
   "execution_count": null,
   "metadata": {},
   "outputs": [],
   "source": []
  }
 ],
 "metadata": {
  "interpreter": {
   "hash": "39552965ca059a320e4c5f1e9c364a5735a06a2fd1ec87da73da863cc8aa7d0b"
  },
  "kernelspec": {
   "display_name": "Python 3.10.4 ('redes_complexas')",
   "language": "python",
   "name": "python3"
  },
  "language_info": {
   "codemirror_mode": {
    "name": "ipython",
    "version": 3
   },
   "file_extension": ".py",
   "mimetype": "text/x-python",
   "name": "python",
   "nbconvert_exporter": "python",
   "pygments_lexer": "ipython3",
   "version": "3.10.4"
  }
 },
 "nbformat": 4,
 "nbformat_minor": 4
}
